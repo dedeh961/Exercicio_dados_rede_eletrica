{
 "cells": [
  {
   "cell_type": "code",
   "execution_count": 1,
   "metadata": {},
   "outputs": [],
   "source": [
    "#Função para extrair dados em formato CSV\n",
    "def Extrair_Dados_Gerais(caminho=str,delimitador=';',pular_linha=None):\n",
    "    '''Se trata de uma função para extrair dados de uma rede elétrica em CSV\n",
    "    \\n A função funciona com o uso de duas variáveis nos seguintes moldes:\n",
    "    \\n caminho=str\n",
    "    \\n delimitador=';'\n",
    "    \\n Retorna a média, desvio padrão, mediana, máximo, mínimo e data.\n",
    "    '''\n",
    "    \n",
    "    import numpy as np\n",
    "    import pandas as pd\n",
    "\n",
    "    #Tentar ler o arquivo CSV no padrão usado pela empresa\n",
    "    if pular_linha==None:\n",
    "        dados=pd.read_csv(caminho,delimiter=delimitador,skiprows=pular_linha)\n",
    "        #Renomeando coluna\n",
    "        dados.columns=dados.iloc[1]\n",
    "        #Excluindo linhas de texto\n",
    "        dados.drop(dados.index[:2], inplace=True)\n",
    "    #Se nessecitar pular linha, usar modelo diferente\n",
    "    else:\n",
    "        dados=pd.read_csv(caminho,skiprows=pular_linha)\n",
    "        #Renomeando coluna\n",
    "        dados.columns=dados.iloc[0]\n",
    "        #Excluindo linhas de texto\n",
    "        dados.drop(dados.index[:1], inplace=True)\n",
    "    #Resetando Indice\n",
    "    dados.reset_index(inplace=True,drop=True)\n",
    "    #Salvando data\n",
    "    data=dados['Date'][1]\n",
    "    #Excluindo colunas não númericas\n",
    "    dados.drop(columns=['Date','Time','PDmP','PDmIA_D/T','PDmIB_D/T','PDmIC_D/T','PDmIAVG_D/T','PDmP_D/T','PDmQ_D/T','PDmS_D/T'],inplace=True)\n",
    "    #Retirando dados entre pontos ABC e mantendo somente o consolidado\n",
    "    #Sugiro esse processo para facilitar vizualização\n",
    "    dados.drop(columns=['UA','UB','UC','UN','UTHDA','UTHDB','UTHDC','IA','IB','IC','ITHDA','ITHDB','ITHDC','FA','FB','FC','PFA','PFB','PFC','PA','PB','PC'],inplace=True)\n",
    "    dados.drop(columns=['QA','QB','QC','SA','SB','SC','EPA','EPB','EPC','EQA','EQB','EQC','ESA','ESB','ESC','DmIA','DmIB','DmIC','PDmIA','PDmIB','PDmIC'],inplace=True)\n",
    "    #Convertendo texto para número\n",
    "    dados=dados.apply(pd.to_numeric)\n",
    "    #Declarando variável\n",
    "    consolidado=pd.DataFrame()\n",
    "    #Calculando\n",
    "    consolidado['Média']=pd.DataFrame(round(dados.mean(),1))\n",
    "    consolidado['Desvio padrão']=pd.DataFrame(round(dados.std(),1))\n",
    "    consolidado['Mediana']=pd.DataFrame(round(dados.median(),1))\n",
    "    consolidado['Máximo']=pd.DataFrame(round(dados.max(),1))\n",
    "    consolidado['Mínimo']=pd.DataFrame(round(dados.min(),1))\n",
    "    #Trazendo Data\n",
    "    consolidado['Data']=[data]*len(consolidado)\n",
    "   \n",
    "    return consolidado"
   ]
  },
  {
   "cell_type": "code",
   "execution_count": 2,
   "metadata": {},
   "outputs": [],
   "source": [
    "#Função para formar relatório em HTML\n",
    "def Relatorio_HTML(*args):\n",
    "    '''Se trata de uma função para transformar dataframes em uma tabela HTML\n",
    "    \\n A função funciona com a entrada de n dataframes extraidos:\n",
    "    '''\n",
    "    import pandas as pd\n",
    "    \n",
    "    #Concatenando\n",
    "    Relatorio=pd.concat(args)\n",
    "    #Recriando indice para melhor organização\n",
    "    Relatorio['Indice']=Relatorio.index\n",
    "    Relatorio.reset_index(inplace=True,drop=True)\n",
    "    Relatorio=Relatorio.set_index(['Data','Indice'])\n",
    "    #Formando tabela em HTML\n",
    "    Relatorio=Relatorio.to_html(buf='C:/Users/andre/OneDrive/Área de Trabalho/Relatorio.html')\n",
    "    return Relatorio"
   ]
  },
  {
   "cell_type": "code",
   "execution_count": 4,
   "metadata": {},
   "outputs": [],
   "source": [
    "#Extraindo dados das planilhas CSV\n",
    "Geral328=Extrair_Dados_Gerais(caminho='D:/Downloads2/Dados_compilado/DataSheet_3421198001_3P4W_20220328.csv')\n",
    "Geral329=Extrair_Dados_Gerais(caminho='D:/Downloads2/Dados_compilado/DataSheet_3421198001_3P4W_20220329.csv')\n",
    "Geral330=Extrair_Dados_Gerais(caminho='D:/Downloads2/Dados_compilado/DataSheet_3421198001_3P4W_20220330.csv')\n",
    "Geral331=Extrair_Dados_Gerais(caminho='D:/Downloads2/Dados_compilado/DataSheet_3421198001_3P4W_20220331.csv')\n",
    "Geral401=Extrair_Dados_Gerais(caminho='D:/Downloads2/Dados_compilado/DataSheet_3421198001_3P4W_20220401.csv')\n",
    "Geral402=Extrair_Dados_Gerais(caminho='D:/Downloads2/Dados_compilado/DataSheet_3421198001_3P4W_20220402.csv')\n",
    "Geral403=Extrair_Dados_Gerais(pular_linha=1,delimitador=None,caminho='D:/Downloads2/Dados_compilado/DataSheet_3421198001_3P4W_20220403.csv')\n",
    "#Formar relatório\n",
    "Relatorio=Relatorio_HTML(Geral328,Geral329,Geral330,Geral331,Geral401,Geral402)"
   ]
  }
 ],
 "metadata": {
  "kernelspec": {
   "display_name": "Python 3.10.7 64-bit",
   "language": "python",
   "name": "python3"
  },
  "language_info": {
   "codemirror_mode": {
    "name": "ipython",
    "version": 3
   },
   "file_extension": ".py",
   "mimetype": "text/x-python",
   "name": "python",
   "nbconvert_exporter": "python",
   "pygments_lexer": "ipython3",
   "version": "3.10.7"
  },
  "orig_nbformat": 4,
  "vscode": {
   "interpreter": {
    "hash": "6847c98a8f86b01c6a19c518cd2f366693b80566b266804d5ca763cbb223f52b"
   }
  }
 },
 "nbformat": 4,
 "nbformat_minor": 2
}
