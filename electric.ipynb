{
 "cells": [
  {
   "cell_type": "code",
   "execution_count": 231,
   "metadata": {},
   "outputs": [],
   "source": [
    "#Função para extrair dados em formato CSV\n",
    "def Extrair_Dados_Gerais(caminho=str,delimitador=';',pular_linha=None):\n",
    "    '''Se trata de uma função para extrair dados de uma rede elétrica em CSV\n",
    "    \\n A função funciona com o uso de duas variáveis nos seguintes moldes:\n",
    "    \\n caminho=str\n",
    "    \\n delimitador=';'\n",
    "    \\n Retorna a média, desvio padrão, mediana, máximo, mínimo e data.\n",
    "    '''\n",
    "    \n",
    "    import numpy as np\n",
    "    import pandas as pd\n",
    "\n",
    "    #Tentar ler o arquivo CSV no padrão usado pela empresa\n",
    "    if pular_linha==None:\n",
    "        dados=pd.read_csv(caminho,delimiter=delimitador,skiprows=pular_linha)\n",
    "        #Renomeando coluna\n",
    "        dados.columns=dados.iloc[1]\n",
    "        #Excluindo linhas de texto\n",
    "        dados.drop(dados.index[:2], inplace=True)\n",
    "    #Se nessecitar pular linha, usar modelo diferente\n",
    "    else:\n",
    "        dados=pd.read_csv(caminho,skiprows=pular_linha)\n",
    "        #Renomeando coluna\n",
    "        dados.columns=dados.iloc[0]\n",
    "        #Excluindo linhas de texto\n",
    "        dados.drop(dados.index[:1], inplace=True)\n",
    "    #Resetando Indice\n",
    "    dados.reset_index(inplace=True,drop=True)\n",
    "    #Salvando data\n",
    "    data=dados['Date'][1]\n",
    "    #Excluindo colunas não númericas\n",
    "    dados.drop(columns=['Date','Time','PDmP','PDmIA_D/T','PDmIB_D/T','PDmIC_D/T','PDmIAVG_D/T','PDmP_D/T','PDmQ_D/T','PDmS_D/T'],inplace=True)\n",
    "    #Retirando dados entre pontos ABC e mantendo somente o consolidado\n",
    "    #Sugiro esse processo para facilitar visualização,\n",
    "    #dado o grande número de variáveis\n",
    "    dados.drop(columns=['UA','UB','UC','UN','UTHDA','UTHDB','UTHDC','IA','IB','IC','ITHDA','ITHDB','ITHDC','FA','FB','FC','PFA','PFB','PFC','PA','PB','PC'],inplace=True)\n",
    "    dados.drop(columns=['QA','QB','QC','SA','SB','SC','EPA','EPB','EPC','EQA','EQB','EQC','ESA','ESB','ESC','DmIA','DmIB','DmIC','PDmIA','PDmIB','PDmIC'],inplace=True)\n",
    "    #Convertendo texto para número\n",
    "    dados=dados.apply(pd.to_numeric)\n",
    "    #Declarando variável\n",
    "    consolidado=pd.DataFrame()\n",
    "    #Calculando variáveis\n",
    "    consolidado['Média']=pd.DataFrame(round(dados.mean(),1))\n",
    "    consolidado['Desvio padrão']=pd.DataFrame(round(dados.std(),1))\n",
    "    consolidado['Mediana']=pd.DataFrame(round(dados.median(),1))\n",
    "    consolidado['Máximo']=pd.DataFrame(round(dados.max(),1))\n",
    "    consolidado['Mínimo']=pd.DataFrame(round(dados.min(),1))\n",
    "    #Trazendo Data para a tabela\n",
    "    consolidado['Data']=[data]*len(consolidado)\n",
    "   \n",
    "    return consolidado"
   ]
  },
  {
   "cell_type": "code",
   "execution_count": 232,
   "metadata": {},
   "outputs": [],
   "source": [
    "#Função para formar relatório geral completo\n",
    "def Relatorio_Geral(*args):\n",
    "    '''Se trata de uma função para unir dataframes\n",
    "    \\n A função funciona com a entrada de n dataframes extraidos\n",
    "    '''\n",
    "    import pandas as pd\n",
    "\n",
    "    #Concatenando data frames\n",
    "    Relatorio=pd.concat(args)\n",
    "    #Recriando indice para melhor organização\n",
    "    Relatorio['Variáveis']=Relatorio.index\n",
    "    Relatorio.reset_index(inplace=True,drop=True)\n",
    "    Relatorio=Relatorio.set_index(['Data','Variáveis'])\n",
    "    return Relatorio"
   ]
  },
  {
   "cell_type": "code",
   "execution_count": 233,
   "metadata": {},
   "outputs": [],
   "source": [
    "#Função para encontrar as 5 maiores harmonicas do dia\n",
    "def Maiores_harmonicas(caminhos=list,pular_linha=1):\n",
    "    '''Função que recebe qualquer planilha de harmonicas (Tensão e corrente). \n",
    "    \\nRetorna as 10 maiores ocorrencias\n",
    "    '''\n",
    "    import pandas as pd\n",
    "    import numpy as np\n",
    "    \n",
    "    #Criação de lista para guardar resultados\n",
    "    save=list()\n",
    "    #Declarando data frame final\n",
    "    Relatorio=pd.DataFrame()\n",
    "    for endereço in caminhos:\n",
    "        dados=pd.read_csv(endereço,skiprows=pular_linha)\n",
    "        #Renomeando colunas\n",
    "        dados.columns=dados.iloc[0]\n",
    "        #Excluindo linhas de texto\n",
    "        dados.drop(columns=['Time'],inplace=True)\n",
    "        dados.drop(dados.index[:1], inplace=True)\n",
    "        #Agrupando variáveis\n",
    "        consolidado=dados.groupby('Date').max()\n",
    "        consolidado=consolidado.transpose().round()\n",
    "        #Convertendo valores para numérico\n",
    "        consolidado=consolidado.apply(pd.to_numeric)\n",
    "        consolidado.fillna(value=0,inplace=True)\n",
    "        #Encontrando onde aconteceram as 5 maiores harmonicas do dia\n",
    "        consolidado=consolidado.sort_values(by=[0],na_position='last',ascending=False).head(5)\n",
    "        consolidado=consolidado.transpose()\n",
    "        save.append(consolidado)\n",
    "    if len(caminhos)>1:\n",
    "        \n",
    "        #Concatenando data frames\n",
    "        Relatorio=pd.concat(save)\n",
    "        #Formatando figura e arredondando valores\n",
    "        Relatorio=Relatorio.round(2).astype(np.str0).style.set_caption('Maiores harmônicas em cada dia').set_table_styles([{\n",
    "        'selector': 'caption',\n",
    "        'props': [\n",
    "        ('color', 'black'),\n",
    "        ('font-size', '15px'),\n",
    "        ('font-style', 'italic'),\n",
    "        ('font-weight', 'bold'),\n",
    "        ('text-align', 'center')]}])\n",
    "    return Relatorio"
   ]
  },
  {
   "cell_type": "code",
   "execution_count": 234,
   "metadata": {},
   "outputs": [],
   "source": [
    "def Make_HTML(caminho=str):\n",
    "    '''Função para exportar data frames como HTML\n",
    "    \\ncaminho=endereço onde você deseja salvar seu arquivo\n",
    "    '''\n",
    "    with open(caminho, 'w') as _file:\n",
    "        _file.write(ch.to_html() \n",
    "                    + \"\\n\\n\" + th.to_html()\n",
    "                    + \"\\n\\n\" + rg.to_html())"
   ]
  },
  {
   "cell_type": "code",
   "execution_count": 235,
   "metadata": {},
   "outputs": [],
   "source": [
    "#Extraindo dados das planilhas CSV\n",
    "Geral328=Extrair_Dados_Gerais(caminho='D:/Downloads2/Dados_compilado/DataSheet_3421198001_3P4W_20220328.csv')\n",
    "Geral329=Extrair_Dados_Gerais(caminho='D:/Downloads2/Dados_compilado/DataSheet_3421198001_3P4W_20220329.csv')\n",
    "Geral330=Extrair_Dados_Gerais(caminho='D:/Downloads2/Dados_compilado/DataSheet_3421198001_3P4W_20220330.csv')\n",
    "Geral331=Extrair_Dados_Gerais(caminho='D:/Downloads2/Dados_compilado/DataSheet_3421198001_3P4W_20220331.csv')\n",
    "Geral401=Extrair_Dados_Gerais(caminho='D:/Downloads2/Dados_compilado/DataSheet_3421198001_3P4W_20220401.csv')\n",
    "Geral402=Extrair_Dados_Gerais(caminho='D:/Downloads2/Dados_compilado/DataSheet_3421198001_3P4W_20220402.csv')\n",
    "Geral403=Extrair_Dados_Gerais(pular_linha=1,delimitador=None,caminho='D:/Downloads2/Dados_compilado/DataSheet_3421198001_3P4W_20220403.csv')\n",
    "#Formar relatório\n",
    "rg=Relatorio_Geral(Geral328,Geral329,Geral330,Geral331,Geral401,Geral402)"
   ]
  },
  {
   "cell_type": "code",
   "execution_count": 236,
   "metadata": {},
   "outputs": [],
   "source": [
    "#Extrair maiores harmonicas da tensão\n",
    "th=Maiores_harmonicas(\n",
    "    caminhos=['D:/Downloads2/Dados_compilado/VoltageHarmonics_3421198001_20220328.csv',\n",
    "            'D:/Downloads2/Dados_compilado/VoltageHarmonics_3421198001_20220329.csv',\n",
    "            'D:/Downloads2/Dados_compilado/VoltageHarmonics_3421198001_20220330.csv',\n",
    "            'D:/Downloads2/Dados_compilado/VoltageHarmonics_3421198001_20220331.csv',\n",
    "            'D:/Downloads2/Dados_compilado/VoltageHarmonics_3421198001_20220401.csv',\n",
    "            'D:/Downloads2/Dados_compilado/VoltageHarmonics_3421198001_20220402.csv',\n",
    "            'D:/Downloads2/Dados_compilado/VoltageHarmonics_3421198001_20220403.csv'])"
   ]
  },
  {
   "cell_type": "code",
   "execution_count": 237,
   "metadata": {},
   "outputs": [],
   "source": [
    "#Extrair maiores harmonicas da corrente\n",
    "ch=Maiores_harmonicas(\n",
    "  caminhos=['D:/Downloads2/Dados_compilado/CurrentHarmonics_3421198001_20220328.csv',\n",
    "            'D:/Downloads2/Dados_compilado/CurrentHarmonics_3421198001_20220329.csv',\n",
    "            'D:/Downloads2/Dados_compilado/CurrentHarmonics_3421198001_20220330.csv',\n",
    "            'D:/Downloads2/Dados_compilado/CurrentHarmonics_3421198001_20220331.csv',\n",
    "            'D:/Downloads2/Dados_compilado/CurrentHarmonics_3421198001_20220401.csv',\n",
    "            'D:/Downloads2/Dados_compilado/CurrentHarmonics_3421198001_20220402.csv',\n",
    "            'D:/Downloads2/Dados_compilado/CurrentHarmonics_3421198001_20220403.csv'])"
   ]
  },
  {
   "cell_type": "code",
   "execution_count": 238,
   "metadata": {},
   "outputs": [],
   "source": [
    "#Exportar como HTML\n",
    "Make_HTML(caminho='C:/Users/andre/OneDrive/Área de Trabalho/Relatório.html')"
   ]
  }
 ],
 "metadata": {
  "kernelspec": {
   "display_name": "Python 3.10.7 64-bit",
   "language": "python",
   "name": "python3"
  },
  "language_info": {
   "codemirror_mode": {
    "name": "ipython",
    "version": 3
   },
   "file_extension": ".py",
   "mimetype": "text/x-python",
   "name": "python",
   "nbconvert_exporter": "python",
   "pygments_lexer": "ipython3",
   "version": "3.10.7"
  },
  "orig_nbformat": 4,
  "vscode": {
   "interpreter": {
    "hash": "6847c98a8f86b01c6a19c518cd2f366693b80566b266804d5ca763cbb223f52b"
   }
  }
 },
 "nbformat": 4,
 "nbformat_minor": 2
}
